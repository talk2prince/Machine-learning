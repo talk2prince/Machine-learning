{
 "cells": [
  {
   "cell_type": "code",
   "execution_count": 8,
   "metadata": {},
   "outputs": [
    {
     "name": "stdout",
     "output_type": "stream",
     "text": [
      "Iteration 1, loss = 0.71001342\n",
      "Iteration 2, loss = 0.38983699\n",
      "Iteration 3, loss = 0.36677599\n",
      "Iteration 4, loss = 0.35694792\n",
      "Iteration 5, loss = 0.34888187\n",
      "Iteration 6, loss = 0.34417099\n",
      "Iteration 7, loss = 0.34249491\n",
      "Iteration 8, loss = 0.33886751\n",
      "Iteration 9, loss = 0.33692386\n",
      "Iteration 10, loss = 0.33889227\n"
     ]
    },
    {
     "name": "stderr",
     "output_type": "stream",
     "text": [
      "C:\\Users\\prince\\Anaconda3\\lib\\site-packages\\sklearn\\neural_network\\multilayer_perceptron.py:564: ConvergenceWarning: Stochastic Optimizer: Maximum iterations (10) reached and the optimization hasn't converged yet.\n",
      "  % self.max_iter, ConvergenceWarning)\n"
     ]
    },
    {
     "name": "stdout",
     "output_type": "stream",
     "text": [
      "[7 2 1 ... 4 5 6]\n",
      "accuracy= 0.9139\n"
     ]
    }
   ],
   "source": [
    "import numpy\n",
    "from sklearn import datasets,metrics\n",
    "from sklearn.neural_network import MLPClassifier\n",
    "import pickle\n",
    "train_set,valid_set,test_set=pickle.load(open('mnist.pkl','rb'),encoding='latin1')\n",
    "\n",
    "trainset=train_set[0]\n",
    "trainsettarget=train_set[1]\n",
    "\n",
    "validset=valid_set[0]\n",
    "validsettarget=valid_set[1]\n",
    "\n",
    "testset=test_set[0]\n",
    "testsettarget=test_set[1]\n",
    "\n",
    "trainset=numpy.concatenate((trainset,validset),axis=0)\n",
    "trainsettarget=numpy.concatenate((trainsettarget,validsettarget),axis=0)\n",
    "\n",
    "trainset=trainset/255\n",
    "testset=testset/255\n",
    "\n",
    "mlp=MLPClassifier(hidden_layer_sizes=(784,),max_iter=10,solver='adam',learning_rate_init=0.1,verbose=10)\n",
    "mlp.fit(trainset,trainsettarget)\n",
    "prediction=mlp.predict(testset)\n",
    "\n",
    "print(prediction)\n",
    "\n",
    "print(\"accuracy=\",metrics.accuracy_score(testsettarget,prediction,normalize=True))\n",
    "\n",
    "\n",
    "\n",
    "\n",
    "\n",
    "\n"
   ]
  },
  {
   "cell_type": "code",
   "execution_count": null,
   "metadata": {},
   "outputs": [],
   "source": []
  },
  {
   "cell_type": "code",
   "execution_count": null,
   "metadata": {},
   "outputs": [],
   "source": []
  },
  {
   "cell_type": "code",
   "execution_count": 10,
   "metadata": {},
   "outputs": [
    {
     "name": "stdout",
     "output_type": "stream",
     "text": [
      "[0 0 0 0 0 0 0 0 0 0 0 0 0 0 0 0 0 0 0 0 0 0 0 0 0]\n",
      "Accuracy= 1.0\n"
     ]
    }
   ],
   "source": [
    "import numpy\n",
    "from sklearn import datasets,metrics\n",
    "from sklearn.neural_network import MLPClassifier\n",
    "\n",
    "(data,targets)=datasets.load_iris(return_X_y=True)\n",
    "\n",
    "trainingset=data[range(0,50,2),:]\n",
    "trainingsettarget=targets[range(0,50,2)]\n",
    "\n",
    "testset=data[range(0,50,2),:]\n",
    "testsettarget=targets[range(0,50,2)]\n",
    "\n",
    "clf=MLPClassifier(solver='sgd',hidden_layer_sizes=(65),max_iter=200)\n",
    "\n",
    "clf.fit(trainingset,trainingsettarget)\n",
    "\n",
    "prediction=clf.predict(testset)\n",
    "\n",
    "print(prediction)\n",
    "\n",
    "print(\"Accuracy=\",metrics.accuracy_score(testsettarget,prediction,normalize=True))"
   ]
  },
  {
   "cell_type": "code",
   "execution_count": null,
   "metadata": {},
   "outputs": [],
   "source": []
  }
 ],
 "metadata": {
  "kernelspec": {
   "display_name": "Python 3",
   "language": "python",
   "name": "python3"
  },
  "language_info": {
   "codemirror_mode": {
    "name": "ipython",
    "version": 3
   },
   "file_extension": ".py",
   "mimetype": "text/x-python",
   "name": "python",
   "nbconvert_exporter": "python",
   "pygments_lexer": "ipython3",
   "version": "3.6.5"
  }
 },
 "nbformat": 4,
 "nbformat_minor": 2
}
